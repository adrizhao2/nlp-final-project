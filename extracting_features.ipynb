{
 "cells": [
  {
   "cell_type": "raw",
   "metadata": {},
   "source": [
    "Singing is red, non-singing is blue"
   ]
  },
  {
   "cell_type": "code",
   "execution_count": 12,
   "metadata": {},
   "outputs": [],
   "source": [
    "# Import statements\n",
    "\n",
    "import glob\n",
    "import re\n",
    "import parselmouth\n",
    "from parselmouth.praat import call"
   ]
  },
  {
   "cell_type": "code",
   "execution_count": 15,
   "metadata": {},
   "outputs": [
    {
     "name": "stdout",
     "output_type": "stream",
     "text": [
      "5\n"
     ]
    },
    {
     "ename": "AttributeError",
     "evalue": "'NoneType' object has no attribute 'lower'",
     "output_type": "error",
     "traceback": [
      "\u001b[0;31m---------------------------------------------------------------------------\u001b[0m",
      "\u001b[0;31mAttributeError\u001b[0m                            Traceback (most recent call last)",
      "\u001b[0;32m<ipython-input-15-0b44c213e166>\u001b[0m in \u001b[0;36m<module>\u001b[0;34m\u001b[0m\n\u001b[1;32m     25\u001b[0m     \u001b[0;32mfor\u001b[0m \u001b[0mi\u001b[0m \u001b[0;32min\u001b[0m \u001b[0mrange\u001b[0m\u001b[0;34m(\u001b[0m\u001b[0;36m1\u001b[0m\u001b[0;34m,\u001b[0m \u001b[0mintv\u001b[0m\u001b[0;34m)\u001b[0m\u001b[0;34m:\u001b[0m\u001b[0;34m\u001b[0m\u001b[0;34m\u001b[0m\u001b[0m\n\u001b[1;32m     26\u001b[0m         \u001b[0mphone\u001b[0m \u001b[0;34m=\u001b[0m \u001b[0mcall\u001b[0m\u001b[0;34m(\u001b[0m\u001b[0mtextgrid\u001b[0m\u001b[0;34m,\u001b[0m \u001b[0;34m\"Get label of interval\"\u001b[0m\u001b[0;34m,\u001b[0m \u001b[0;36m1\u001b[0m\u001b[0;34m,\u001b[0m \u001b[0mi\u001b[0m\u001b[0;34m)\u001b[0m\u001b[0;34m\u001b[0m\u001b[0;34m\u001b[0m\u001b[0m\n\u001b[0;32m---> 27\u001b[0;31m         \u001b[0;32mif\u001b[0m \u001b[0mre\u001b[0m\u001b[0;34m.\u001b[0m\u001b[0mmatch\u001b[0m\u001b[0;34m(\u001b[0m\u001b[0;34m'[AEIOU]'\u001b[0m\u001b[0;34m,\u001b[0m \u001b[0mphone\u001b[0m\u001b[0;34m.\u001b[0m\u001b[0mlower\u001b[0m\u001b[0;34m)\u001b[0m\u001b[0;34m:\u001b[0m\u001b[0;34m\u001b[0m\u001b[0;34m\u001b[0m\u001b[0m\n\u001b[0m\u001b[1;32m     28\u001b[0m             \u001b[0mvowels\u001b[0m \u001b[0;34m+=\u001b[0m \u001b[0;36m1\u001b[0m\u001b[0;34m\u001b[0m\u001b[0;34m\u001b[0m\u001b[0m\n\u001b[1;32m     29\u001b[0m             \u001b[0mvowel_onset\u001b[0m \u001b[0;34m=\u001b[0m \u001b[0mcall\u001b[0m\u001b[0;34m(\u001b[0m\u001b[0mtextgrid\u001b[0m\u001b[0;34m,\u001b[0m \u001b[0;34m\"Get starting point\"\u001b[0m\u001b[0;34m,\u001b[0m \u001b[0;36m1\u001b[0m\u001b[0;34m,\u001b[0m \u001b[0mi\u001b[0m\u001b[0;34m)\u001b[0m\u001b[0;34m\u001b[0m\u001b[0;34m\u001b[0m\u001b[0m\n",
      "\u001b[0;31mAttributeError\u001b[0m: 'NoneType' object has no attribute 'lower'"
     ]
    }
   ],
   "source": [
    "# Pitch, intensity, duration and F0 for singing features.\n",
    "singing = []\n",
    "counter = 0 \n",
    "\n",
    "for wav_file in glob.glob(\"/Users/adrizhao/Documents/NLP/nlp-final-project/singing/*.wav\"):    \n",
    "\n",
    "\n",
    "# Get duration, mean pitch, mean intensity\n",
    "    sound = parselmouth.Sound(wav_file)\n",
    "    pitch = call(sound, \"To Pitch\", 0, 75, 600) \n",
    "    meanpitch = call(pitch, \"Get mean\", 0, 0, \"Hertz\")\n",
    "    intensity = call(sound, \"To Intensity\", 75, 0, \"yes\")\n",
    "    meanintensity = call(intensity, \"Get mean\", 0, 0, \"energy\")\n",
    "    duration = call(sound, \"Get total duration\")\n",
    "\n",
    "    \n",
    "    # get mean F0 (vowels only)\n",
    "    formant = call(sound, \"To Formant (burg)\", 0, 5, 5500, 0.025, 50)\n",
    "    tg_file = re.sub(\"wav\", \"TextGrid\", wav_file)\n",
    "    textgrid = call(\"Read from file\", tg_file)\n",
    "    intv = call(textgrid, \"Get number of intervals\", 1)\n",
    "    vowels = 0\n",
    "    f_zero = 0\n",
    "    for i in range(1, intv):\n",
    "        phone = call(textgrid, \"Get label of interval\", 1, i)\n",
    "        if re.match('[AEIOU]', phone.lower):\n",
    "            vowels += 1\n",
    "            vowel_onset = call(textgrid, \"Get starting point\", 1, i)\n",
    "            vowel_offset = call(textgrid, \"Get end point\", 1, i)\n",
    "            midpoint = vowel_onset + ((vowel_offset - vowel_onset) / 2)\n",
    "            f_zero += call(formant, \"Get value at time\", 1, midpoint, \"Hertz\", \"Linear\")\n",
    "            \n",
    "    singing.append([meanpitch, meanintensity, duration, (f_zero/vowels)])"
   ]
  },
  {
   "cell_type": "code",
   "execution_count": 8,
   "metadata": {},
   "outputs": [
    {
     "name": "stdout",
     "output_type": "stream",
     "text": [
      "None\n"
     ]
    },
    {
     "ename": "TypeError",
     "evalue": "expected string or bytes-like object",
     "output_type": "error",
     "traceback": [
      "\u001b[0;31m---------------------------------------------------------------------------\u001b[0m",
      "\u001b[0;31mTypeError\u001b[0m                                 Traceback (most recent call last)",
      "\u001b[0;32m<ipython-input-8-dc614b17d6c8>\u001b[0m in \u001b[0;36m<module>\u001b[0;34m\u001b[0m\n\u001b[1;32m     22\u001b[0m         \u001b[0mphone\u001b[0m \u001b[0;34m=\u001b[0m \u001b[0mcall\u001b[0m\u001b[0;34m(\u001b[0m\u001b[0mtextgrid\u001b[0m\u001b[0;34m,\u001b[0m \u001b[0;34m\"Get label of interval\"\u001b[0m\u001b[0;34m,\u001b[0m \u001b[0;36m1\u001b[0m\u001b[0;34m,\u001b[0m \u001b[0mi\u001b[0m\u001b[0;34m)\u001b[0m\u001b[0;34m\u001b[0m\u001b[0;34m\u001b[0m\u001b[0m\n\u001b[1;32m     23\u001b[0m         \u001b[0mprint\u001b[0m\u001b[0;34m(\u001b[0m\u001b[0mphone\u001b[0m\u001b[0;34m)\u001b[0m\u001b[0;34m\u001b[0m\u001b[0;34m\u001b[0m\u001b[0m\n\u001b[0;32m---> 24\u001b[0;31m         \u001b[0;32mif\u001b[0m \u001b[0mre\u001b[0m\u001b[0;34m.\u001b[0m\u001b[0mmatch\u001b[0m\u001b[0;34m(\u001b[0m\u001b[0;34m'[AEIOU]'\u001b[0m\u001b[0;34m,\u001b[0m \u001b[0mphone\u001b[0m\u001b[0;34m)\u001b[0m\u001b[0;34m:\u001b[0m\u001b[0;34m\u001b[0m\u001b[0;34m\u001b[0m\u001b[0m\n\u001b[0m\u001b[1;32m     25\u001b[0m             \u001b[0mvowel_onset\u001b[0m \u001b[0;34m=\u001b[0m \u001b[0mcall\u001b[0m\u001b[0;34m(\u001b[0m\u001b[0mtextgrid\u001b[0m\u001b[0;34m,\u001b[0m \u001b[0;34m\"Get starting point\"\u001b[0m\u001b[0;34m,\u001b[0m \u001b[0;36m1\u001b[0m\u001b[0;34m,\u001b[0m \u001b[0mi\u001b[0m\u001b[0;34m)\u001b[0m\u001b[0;34m\u001b[0m\u001b[0;34m\u001b[0m\u001b[0m\n\u001b[1;32m     26\u001b[0m             \u001b[0mvowel_offset\u001b[0m \u001b[0;34m=\u001b[0m \u001b[0mcall\u001b[0m\u001b[0;34m(\u001b[0m\u001b[0mtextgrid\u001b[0m\u001b[0;34m,\u001b[0m \u001b[0;34m\"Get end point\"\u001b[0m\u001b[0;34m,\u001b[0m \u001b[0;36m1\u001b[0m\u001b[0;34m,\u001b[0m \u001b[0mi\u001b[0m\u001b[0;34m)\u001b[0m\u001b[0;34m\u001b[0m\u001b[0;34m\u001b[0m\u001b[0m\n",
      "\u001b[0;32m/opt/anaconda3/lib/python3.8/re.py\u001b[0m in \u001b[0;36mmatch\u001b[0;34m(pattern, string, flags)\u001b[0m\n\u001b[1;32m    189\u001b[0m     \"\"\"Try to apply the pattern at the start of the string, returning\n\u001b[1;32m    190\u001b[0m     a Match object, or None if no match was found.\"\"\"\n\u001b[0;32m--> 191\u001b[0;31m     \u001b[0;32mreturn\u001b[0m \u001b[0m_compile\u001b[0m\u001b[0;34m(\u001b[0m\u001b[0mpattern\u001b[0m\u001b[0;34m,\u001b[0m \u001b[0mflags\u001b[0m\u001b[0;34m)\u001b[0m\u001b[0;34m.\u001b[0m\u001b[0mmatch\u001b[0m\u001b[0;34m(\u001b[0m\u001b[0mstring\u001b[0m\u001b[0;34m)\u001b[0m\u001b[0;34m\u001b[0m\u001b[0;34m\u001b[0m\u001b[0m\n\u001b[0m\u001b[1;32m    192\u001b[0m \u001b[0;34m\u001b[0m\u001b[0m\n\u001b[1;32m    193\u001b[0m \u001b[0;32mdef\u001b[0m \u001b[0mfullmatch\u001b[0m\u001b[0;34m(\u001b[0m\u001b[0mpattern\u001b[0m\u001b[0;34m,\u001b[0m \u001b[0mstring\u001b[0m\u001b[0;34m,\u001b[0m \u001b[0mflags\u001b[0m\u001b[0;34m=\u001b[0m\u001b[0;36m0\u001b[0m\u001b[0;34m)\u001b[0m\u001b[0;34m:\u001b[0m\u001b[0;34m\u001b[0m\u001b[0;34m\u001b[0m\u001b[0m\n",
      "\u001b[0;31mTypeError\u001b[0m: expected string or bytes-like object"
     ]
    }
   ],
   "source": [
    "#jitter and shimmer\n",
    "\n",
    "# We'll write this info out to a file.\n",
    "f = open(\"/Users/adrizhao/Documents/NLP/nlp-final-project/jitter_shimmer.csv\", \"w\")\n",
    "\n",
    "f.write(\"filename, jitter, shimmers, hnr, singvspeak\" + \"\\n\")\n",
    "\n",
    "for wav_file in glob.glob(\"/Users/adrizhao/Documents/NLP/nlp-final-project/singing/*.wav\"):\n",
    "    singvspeak = 0\n",
    "    filename = re.sub(\"^.*\\/\", \"\", wav_file)\n",
    "    tg_file = re.sub(\"wav\", \"TextGrid\", filename)\n",
    "    textgrid = call(\"Read from file\", \"singing/\" + tg_file)\n",
    "    intv = call(textgrid, \"Get number of intervals\", 1)\n",
    "    sound = parselmouth.Sound( \"singing/\" + filename)\n",
    "    pointProcess = call(sound, \"To PointProcess (periodic, cc)\", 75, 600)\n",
    "    harmonicity = call(sound, \"To Harmonicity (cc)\", 0.01, 75, 0.1, 1.0)\n",
    "    jitter = 0.0\n",
    "    shimmer = 0.0\n",
    "    hnr = 0.0\n",
    "    count = 0\n",
    "    for i in range(1, intv):\n",
    "        phone = call(textgrid, \"Get label of interval\", 1, i)\n",
    "        if re.match('[AEIOU]', phone):\n",
    "            vowel_onset = call(textgrid, \"Get starting point\", 1, i)\n",
    "            vowel_offset = call(textgrid, \"Get end point\", 1, i)\n",
    "            j = call(pointProcess, \"Get jitter (local)\", vowel_onset, vowel_offset, 0.0001, 0.03, 1.3)\n",
    "            s = call([sound, pointProcess], \"Get shimmer (local)\", vowel_onset, vowel_offset, 0.0001, 0.02, 1.3, 1.6)\n",
    "            h = call(harmonicity, \"Get mean\", vowel_onset, vowel_offset)\n",
    "            if j >= 0 and s >= 0 and h >= 0:\n",
    "                count += 1\n",
    "                jitter += j\n",
    "                shimmer += s\n",
    "                hnr += h\n",
    "    f.write(filename + \",\" + str(jitter/count) + \",\" + str(shimmer/count) + \",\" + str(hnr/count) + \",\" + str(singvspeak) + \"\\n\")\n",
    "    \n",
    "for wav_file in glob.glob(\"/Users/adrizhao/Documents/NLP/nlp-final-project/speaking/*.wav\"):\n",
    "    singvspeak = 1\n",
    "    filename = re.sub(\"^.*\\/\", \"\", wav_file)\n",
    "    tg_file = re.sub(\"wav\", \"TextGrid\", filename)\n",
    "    textgrid = call(\"Read from file\", \"speaking/\" + tg_file)\n",
    "    intv = call(textgrid, \"Get number of intervals\", 1)\n",
    "    sound = parselmouth.Sound( \"speaking/\" + filename)\n",
    "    pointProcess = call(sound, \"To PointProcess (periodic, cc)\", 75, 600)\n",
    "    harmonicity = call(sound, \"To Harmonicity (cc)\", 0.01, 75, 0.1, 1.0)\n",
    "    jitter = 0.0\n",
    "    shimmer = 0.0\n",
    "    hnr = 0.0\n",
    "    count = 0\n",
    "    for i in range(1, intv):\n",
    "        phone = call(textgrid, \"Get label of interval\", 1, i)\n",
    "        if re.match('[AEIOU]', phone):\n",
    "            vowel_onset = call(textgrid, \"Get starting point\", 1, i)\n",
    "            vowel_offset = call(textgrid, \"Get end point\", 1, i)\n",
    "            j = call(pointProcess, \"Get jitter (local)\", vowel_onset, vowel_offset, 0.0001, 0.03, 1.3)\n",
    "            s = call([sound, pointProcess], \"Get shimmer (local)\", vowel_onset, vowel_offset, 0.0001, 0.02, 1.3, 1.6)\n",
    "            h = call(harmonicity, \"Get mean\", vowel_onset, vowel_offset)\n",
    "            if j >= 0 and s >= 0 and h >= 0:\n",
    "                count += 1\n",
    "                jitter += j\n",
    "                shimmer += s\n",
    "                hnr += h\n",
    "    f.write(filename + \",\" + str(jitter/count) + \",\" + str(shimmer/count) + \",\" + str(hnr/count) + \",\" + str(singvspeak) + \"\\n\")\n",
    "f.close()"
   ]
  },
  {
   "cell_type": "code",
   "execution_count": null,
   "metadata": {},
   "outputs": [],
   "source": []
  }
 ],
 "metadata": {
  "kernelspec": {
   "display_name": "Python 3",
   "language": "python",
   "name": "python3"
  },
  "language_info": {
   "codemirror_mode": {
    "name": "ipython",
    "version": 3
   },
   "file_extension": ".py",
   "mimetype": "text/x-python",
   "name": "python",
   "nbconvert_exporter": "python",
   "pygments_lexer": "ipython3",
   "version": "3.8.3"
  }
 },
 "nbformat": 4,
 "nbformat_minor": 4
}
